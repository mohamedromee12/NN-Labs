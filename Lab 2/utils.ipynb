{
 "cells": [
  {
   "cell_type": "markdown",
   "metadata": {},
   "source": [
    "## Utility Functions\n",
    "\n",
    "It is good practice to keep your utility functions (functions that perform certain operations) separate from your machine learning pipeline. This helps you:\n",
    "\n",
    "1. Focus on each operation/functionality on its own\n",
    "2. Better trace code when something breaks\n",
    "3. Perform unit testing"
   ]
  },
  {
   "cell_type": "code",
   "execution_count": 1,
   "metadata": {},
   "outputs": [],
   "source": [
    "### All imports we will need\n",
    "import cv2\n",
    "import numpy as np\n",
    "import math\n",
    "import glob\n",
    "import matplotlib.pyplot as plt\n",
    "from mpl_toolkits.mplot3d import Axes3D\n",
    "\n",
    "# use interactive plots\n",
    "%matplotlib qt "
   ]
  },
  {
   "cell_type": "code",
   "execution_count": 2,
   "metadata": {},
   "outputs": [],
   "source": [
    "#### set debug to false when imported from another "
   ]
  },
  {
   "cell_type": "markdown",
   "metadata": {},
   "source": [
    "## Data Preprocessing Utilities\n",
    "Functions that implement the preprocessing operations"
   ]
  },
  {
   "cell_type": "code",
   "execution_count": 3,
   "metadata": {},
   "outputs": [],
   "source": [
    "def preprocess(img):\n",
    "    # Preprocess the given image img.\n",
    "    \n",
    "    # [1] TODO: Convert the image to grayscale (~1 line)\n",
    "    # Hint: Check the function cvtColor in opencv.\n",
    "    img = cv2.cvtColor(img, cv2.COLOR_BGR2GRAY)\n",
    "\n",
    "    # [2] TODO: Blur the image to remove the noise (apply a 3x3 filter) (~1 line)\n",
    "    # Hint: Check the function blur in opencv.\n",
    "    # Hint: Pass the kernel size as an array (3, 3)\n",
    "    img = cv2.GaussianBlur(img, (3, 3), 0)\n",
    "\n",
    "    # [3] TODO: Convert the grayscale image to a binary image. Apply a threshold between 50 and 255 on the blurred image.\n",
    "    #       The pixels having values less than 50 will be considered 0, and 255 otherwise. (~1 line)\n",
    "    # Hint: Check the function threshold in opencv.\n",
    "    # Hint: Use the type cv2.THRESH_BINARY with the type parameter.\n",
    "    # Hint: This function has two return parameters. You can ignore the first one, and the second is the binary image.\n",
    "    # Example: _, thresholded_img = cv2.threshold(....)\n",
    "\n",
    "    _, thresholded_img = cv2.threshold(img, 50, 255, cv2.THRESH_BINARY)\n",
    "    return thresholded_img"
   ]
  },
  {
   "cell_type": "code",
   "execution_count": 4,
   "metadata": {},
   "outputs": [],
   "source": [
    "IN_DEBUG = True ## uncomment this line when you need to test your code, then re-comment it when done\n",
    "\n",
    "if IN_DEBUG:\n",
    "    ### test your implementation\n",
    "    ######## DO NOT CHANGE THIS CODE ########\n",
    "    img = cv2.imread('images/rectangle/rec1.png')\n",
    "    thresholded_img = preprocess(img)\n",
    "    # assert np.all((thresholded_img==255) | (thresholded_img==0)), \\\n",
    "    #     'Preprocessing is incomplete: the resulting final image should be all 0 or 255'"
   ]
  },
  {
   "cell_type": "markdown",
   "metadata": {},
   "source": [
    "## Feature Extraction Utilities\n",
    "Functions that implement feature extractors"
   ]
  },
  {
   "cell_type": "code",
   "execution_count": 5,
   "metadata": {},
   "outputs": [],
   "source": [
    "def findContourArea(img):\n",
    "    # This function finds the contours of a given image and returns it in the variable contours.\n",
    "    ## understand contours: \n",
    "    ### Contours can be explained simply as a curve joining all the continuous points (along the boundary), having same color or intensity. \n",
    "    ### The contours are a useful tool for shape analysis and object detection and recognition.\n",
    "\n",
    "    # NOTE: This function will not work correctly unless you preprocess the image properly as indicated.\n",
    "    contours, hierarchy = cv2.findContours(img, cv2.RETR_TREE, cv2.CHAIN_APPROX_SIMPLE)[-2:]\n",
    "    ## the function findContours returns an array of contours and their hierarchy,\n",
    "    ## Contours is a Python list of all the contours in the image. Each individual contour is a Numpy array of (x,y) coordinates of boundary points of the object.\n",
    "    ## the list is sorted in terms of hierarchy, this means the outmost contour is in contours[0], \n",
    "    ## and their direct inner contours are in contours[1] and so on and so forth\n",
    "    \n",
    "    # [4] TODO: Find the contour area of the given image (img) (~1 line)\n",
    "    # Hint: check the function contourArea in opencv.\n",
    "    # Hint: think which contour should be passed as argument to the function (which contour we should calculate its area)\n",
    " \n",
    "    area = cv2.contourArea(contours[int(len(contours)/2)])\n",
    "\n",
    "    return area, contours"
   ]
  },
  {
   "cell_type": "code",
   "execution_count": 6,
   "metadata": {},
   "outputs": [],
   "source": [
    "def findBoundingRectangleArea(img, contours):\n",
    "    # This function tries to fit the minimum bounding rectangle for the given contours.\n",
    "\n",
    "    # [5] TODO: Find the minimum bounding rectangle that can fit the given contours.\n",
    "    # Hint: Check the function boundingRect in opencv\n",
    "    x, y, w, h = cv2.boundingRect(contours[int(len(contours)/2)])\n",
    "    \n",
    "   \n",
    "    # TODO (Optional): You can uncomment the following lines to show or display the bounded rectangle.\n",
    "    bounding_rectangle = None\n",
    "    # bounding_rectangle = cv2.rectangle(img.copy(), (x, y), (x + w, y + h), (0, 255, 0), 2)\n",
    "    if bounding_rectangle: ## not none\n",
    "        cv2.imshow('Image_Rec', bounding_rectangle)\n",
    "        cv2.waitKey(0)\n",
    "\n",
    "    # [6] TODO: Find the area of the bounding rectangle\n",
    "    area = w*h\n",
    "    return area, bounding_rectangle"
   ]
  },
  {
   "cell_type": "code",
   "execution_count": 7,
   "metadata": {},
   "outputs": [],
   "source": [
    "def findBoundingCircleArea(img, contours):\n",
    "    # This function tries to fit the minimum bounding circle for the given contours.\n",
    "\n",
    "    # [7] TODO: Find the minimum enclosing circle that can fit the given contours.\n",
    "    # Hint: Check the function minEnclosingCircle in opencv\n",
    "    (x,y), radius = cv2.minEnclosingCircle(contours[int(len(contours)/2)])\n",
    "    center = (int(x), int(y))\n",
    "    radius = int(radius)\n",
    "\n",
    "    # TODO (Optional): You can uncomment the following lines to show or display the bounded circle.\n",
    "    bounding_circle = None\n",
    "    #bounding_circle = cv2.circle(img.copy(), center, radius, (0, 255, 0), 2)\n",
    "    if bounding_circle: ## not none\n",
    "        cv2.imshow('Image_Circle', bounding_circle)\n",
    "        cv2.waitKey(0)\n",
    "\n",
    "    # [8] TODO: Find the area of the bounding circle\n",
    "    area = (22/7) * radius**2\n",
    "    return area, bounding_circle"
   ]
  },
  {
   "cell_type": "code",
   "execution_count": 8,
   "metadata": {},
   "outputs": [],
   "source": [
    "def findBoundingTriangleArea(img, contours):\n",
    "    # This function tries to fit the minimum bounding triangle for the given contours.\n",
    "\n",
    "    # [9] TODO: Find the minimum enclosing triangle that can fit the given contours.\n",
    "    # Hint: Check the function minEnclosingTriangle in opencv and place its output in the variable x\n",
    "    x = cv2.minEnclosingTriangle(contours[int(len(contours)/2)])\n",
    "    \n",
    "\n",
    "    # TODO (Optional): You can uncomment the following lines to show or display the bounded triangle.\n",
    "    bounding_triangle = None\n",
    "    # bounding_triangle = cv2.polylines(img.copy(), np.int32([x[1]]), True, (0, 255, 0), 2)\n",
    "    if bounding_triangle: ## not none\n",
    "        cv2.imshow('Image_Triangle', bounding_triangle)\n",
    "        cv2.waitKey(0)\n",
    "\n",
    "    # [10] TODO: Find the area of the bounding circle\n",
    "    area = x[0]\n",
    "    return area, bounding_triangle"
   ]
  },
  {
   "cell_type": "code",
   "execution_count": 9,
   "metadata": {},
   "outputs": [],
   "source": [
    "# IN_DEBUG = True ## uncomment this line when you need to test your code, then re-comment it when done\n",
    "\n",
    "if IN_DEBUG:\n",
    "    ### test your implementation\n",
    "    ######## DO NOT CHANGE THIS CODE ########\n",
    "    img = cv2.imread('images/rectangle/rec1.png')\n",
    "    thresholded_img = preprocess(img) ### assuming this function is behaving correctly\n",
    "    img_area, img_contours = findContourArea(thresholded_img)\n",
    "    rect_area, _ = findBoundingRectangleArea(thresholded_img, img_contours)\n",
    "    circ_area, _ = findBoundingCircleArea(thresholded_img, img_contours)\n",
    "    tri_area, _ = findBoundingTriangleArea(thresholded_img, img_contours)\n",
    "\n",
    "    # assert round(img_area, 2)==14150.5,\\\n",
    "    #     f'findContourArea() is incorrect, expected {14150.5} found {img_area}'\n",
    "    # assert round(rect_area, 2)==16120.0, \\\n",
    "    #     f'findBoundingRectangleArea() is incorrect, expected {16120.0} found {rect_area}'\n",
    "    # assert round(circ_area, 2)==23235.22, \\\n",
    "    #     f'findBoundingCircleArea() is incorrect, expected {23235.22} found {circ_area}'\n",
    "    # assert round(tri_area,2)==25933.5, \\\n",
    "    #     f'findBoundingTriangleArea() is incorrect, expected {25933.5} found {tri_area}'"
   ]
  },
  {
   "cell_type": "code",
   "execution_count": 10,
   "metadata": {},
   "outputs": [],
   "source": [
    "def extract_features(img, class_number=None):\n",
    "    # Given an image img, extract the following features.\n",
    "    # 1. The ratio between the figure area and the minimum enclosing rectangle.\n",
    "    # 2. The ratio between the figure area and the minimum enclosing circle.\n",
    "    # 3. The ratio between the figure area and the minimum enclosing triangle.\n",
    "\n",
    "    area, contours = findContourArea(img)\n",
    "    area1, _ = findBoundingRectangleArea(img, contours)\n",
    "    area2, _ = findBoundingCircleArea(img, contours)\n",
    "    area3, _ = findBoundingTriangleArea(img, contours)\n",
    "\n",
    "    features = []\n",
    "    # [11] TODO: Extract the features and append the class_number (if given) in the beginning of each feature vector.\n",
    "    features.append(class_number)\n",
    "    features.append(area/area1)\n",
    "    features.append(area/area2)\n",
    "    features.append(area/area3)\n",
    "\n",
    "    print(features)\n",
    "    return features\n"
   ]
  },
  {
   "cell_type": "code",
   "execution_count": 11,
   "metadata": {},
   "outputs": [
    {
     "name": "stdout",
     "output_type": "stream",
     "text": [
      "[1, 0.8805521091811415, 0.6106587098677418, 0.547296982841393]\n"
     ]
    }
   ],
   "source": [
    "# IN_DEBUG = True ## uncomment this line when you need to test your code, then re-comment it when done\n",
    "\n",
    "if IN_DEBUG:\n",
    "    ### test your implementation\n",
    "    ######## DO NOT CHANGE THIS CODE ########\n",
    "    expected_features = np.array([1.0, 0.88, 0.61, 0.55])\n",
    "    results = np.array(extract_features(thresholded_img, 1))\n",
    "    results = np.round(results, 2)\n",
    "    # assert np.all(results == expected_features), \\\n",
    "    #     f'extract_features() is incorrect'"
   ]
  },
  {
   "cell_type": "markdown",
   "metadata": {},
   "source": [
    "## Data Plotting Utilities\n",
    "Functions that implement 3D plots to visualize data"
   ]
  },
  {
   "cell_type": "code",
   "execution_count": 12,
   "metadata": {},
   "outputs": [],
   "source": [
    "def plot(x, y, z, title='', xlabel='', ylabel='', zlabel='', color_style_str='', label_str='', figure=None, axis=None):\n",
    "    # [12] TODO: Add title, x_label, y_label, z_label to axis (~4 lines)\n",
    "    axis.set_title(title)\n",
    "    axis.set_xlabel(xlabel)\n",
    "    axis.set_ylabel(ylabel)\n",
    "    axis.set_zlabel(zlabel)\n",
    "\n",
    "    # [13] TODO: Scatter plot of data points with coordinates (x, y, z) with the corresponding color and label (~1 line)\n",
    "    axis.scatter(x, y, z)\n",
    "\n",
    "    handles, labels = axis.get_legend_handles_labels()\n",
    "\n",
    "    unique = list(set(labels))\n",
    "    handles = [handles[labels.index(u)] for u in unique]\n",
    "    labels = [labels[labels.index(u)] for u in unique]\n",
    "\n",
    "    axis.legend(handles, labels)"
   ]
  },
  {
   "cell_type": "code",
   "execution_count": 13,
   "metadata": {},
   "outputs": [
    {
     "data": {
      "image/png": "[encoded data removed]",
      "text/plain": [
       "<Figure size 432x288 with 1 Axes>"
      ]
     },
     "metadata": {
      "needs_background": "light"
     },
     "output_type": "display_data"
    }
   ],
   "source": [
    "# IN_DEBUG = True ## uncomment this line when you need to test your code, then re-comment it when done\n",
    "\n",
    "if IN_DEBUG:    \n",
    "    ### test your implementation\n",
    "    ######## DO NOT CHANGE THIS CODE ########\n",
    "    np.random.seed(0)\n",
    "    x = np.random.randint(10, size=8)\n",
    "    y = np.random.randint(15, size=8)\n",
    "    z = np.random.randint(20, size=8)\n",
    "    fig = plt.figure()\n",
    "    ax = fig.add_subplot('111', projection='3d')\n",
    "    plot(x, y, z, title='Random Data',\n",
    "               xlabel='Feature x.', ylabel='Feature y', zlabel='Feature z.', color_style_str='g',\n",
    "               label_str=\"Data Points\",\n",
    "               figure=fig, axis=ax)\n",
    "    plt.show()"
   ]
  },
  {
   "attachments": {
    "plotting_ex.PNG": {
     "image/png": "[encoded data removed]"
    }
   },
   "cell_type": "markdown",
   "metadata": {},
   "source": [
    "**EXPECTED PLOT**\n",
    "![plotting_ex.PNG](attachment:plotting_ex.PNG)"
   ]
  },
  {
   "cell_type": "markdown",
   "metadata": {},
   "source": [
    "## Classifiers Utilities\n",
    "Functions that implement the classification algorithms"
   ]
  },
  {
   "cell_type": "code",
   "execution_count": 14,
   "metadata": {},
   "outputs": [],
   "source": [
    "def calculateDistance(x1, x2):\n",
    "    # [14] TODO: Calculate the Euclidean distance between the two vectors x1 and x2. (~ 1 line)\n",
    "    distance = np.linalg.norm(x1 - x2)\n",
    "    return distance"
   ]
  },
  {
   "cell_type": "code",
   "execution_count": 15,
   "metadata": {},
   "outputs": [],
   "source": [
    "def MinimumDistanceClassifier(test_point, training_points):\n",
    "    # [15] TODO: Implement the minumum distance classifier.\n",
    "    #  You have to classify the test_point whether it belongs to class 1, 2 or 3.\n",
    "   \n",
    "    mean_1 = np.mean(training_points[training_points[:,0] == 1],axis = 0)\n",
    "    mean_2 = np.mean(training_points[training_points[:,0] == 2],axis = 0)\n",
    "    mean_3 = np.mean(training_points[training_points[:,0] == 3],axis = 0)\n",
    "   \n",
    "    dist_1 = calculateDistance(test_point[1:4] , mean_1[1:4])\n",
    "    dist_2 = calculateDistance(test_point[1:4] , mean_2[1:4])\n",
    "    dist_3 = calculateDistance(test_point[1:4] , mean_3[1:4])\n",
    "   \n",
    "    \n",
    "    classification = mean_1[0]\n",
    "    if (dist_2 < dist_1 and dist_2 < dist_3):\n",
    "        classification = mean_2[0]\n",
    "    elif (dist_3 < dist_1 and dist_3 < dist_2):\n",
    "        classification = mean_3[0]\n",
    "         \n",
    "    return classification"
   ]
  },
  {
   "cell_type": "code",
   "execution_count": 16,
   "metadata": {},
   "outputs": [],
   "source": [
    "def NearestNeighbor(test_point, all_points):\n",
    "    # [16] TODO: Implement the Nearest Neighbour classifier.\n",
    "    #  You have to classify the test_point whether it belongs to class 1, 2 or 3.\n",
    "    min = calculateDistance(test_point[1:4] , all_points[0][1:4])\n",
    "    classification = 0\n",
    "    for point in all_points:\n",
    "        dist = calculateDistance(test_point[1:4] , point[1:4])\n",
    "        if (dist < min):\n",
    "            min = dist\n",
    "            classification = point[0]\n",
    "    return classification"
   ]
  },
  {
   "cell_type": "code",
   "execution_count": 17,
   "metadata": {},
   "outputs": [],
   "source": [
    "def KNN(test_point, all_points, k):\n",
    "    # [17] TODO: Implement the K-Nearest Neighbour classifier.\n",
    "    #  You have to classify the test_point whether it belongs to class 1, 2 or 3.\n",
    "    classification = 1\n",
    "    mat = np.zeros((len(all_points), 2))\n",
    "    for i in range(0,len(all_points)):\n",
    "        dist = calculateDistance(test_point[1:4] , all_points[i][1:4])\n",
    "        temp = np.zeros((1,2))\n",
    "        temp[0][0] = all_points[i][0]\n",
    "        temp[0][1] = dist\n",
    "        mat[i] = temp\n",
    "\n",
    "   # print (mat)  \n",
    "    sort_indices = np.argsort(mat[:, 1])\n",
    "    sorted_matrix = mat[sort_indices]\n",
    "    print (sorted_matrix) \n",
    "    count_1 = 0\n",
    "    count_2 = 0\n",
    "    count_3 = 0\n",
    "    for i in range(0,k):\n",
    "        if (sorted_matrix[i][0] == 1):\n",
    "            count_1 += 1\n",
    "        elif (sorted_matrix[i][0] == 2):\n",
    "            count_2 += 1\n",
    "        else:\n",
    "            count_3 += 1\n",
    "\n",
    "    print(\"Count-1 :\",count_1)\n",
    "    print(\"Count-2 :\",count_2)\n",
    "    print(\"Count-3 :\",count_3)\n",
    "    if (count_1 > count_3 and count_1 > count_2):\n",
    "        classification = 1\n",
    "    elif (count_2 > count_3 and count_2 > count_3):\n",
    "        classification = 2\n",
    "    else:\n",
    "        classification = 3    \n",
    "   \n",
    "    return classification"
   ]
  },
  {
   "cell_type": "markdown",
   "metadata": {},
   "source": [
    "## Model Testing Utilities\n",
    "Functions that help in the classification algorithms' testing"
   ]
  },
  {
   "cell_type": "code",
   "execution_count": 18,
   "metadata": {},
   "outputs": [],
   "source": [
    "def get_class_from_file_name(file_name):\n",
    "    return file_name.split(\"test\\\\\")[1].split(\".\")[0]\n",
    "\n",
    "\n",
    "def get_class_name(class_number):\n",
    "    classes = [\"\", \"Rectangle\", \"Circle\", \"Triangle\"]\n",
    "    return classes[int(class_number)]"
   ]
  },
  {
   "cell_type": "code",
   "execution_count": null,
   "metadata": {},
   "outputs": [],
   "source": []
  }
 ],
 "metadata": {
  "kernelspec": {
   "display_name": "python-cvcourse",
   "language": "python",
   "name": "python3"
  },
  "language_info": {
   "codemirror_mode": {
    "name": "ipython",
    "version": 3
   },
   "file_extension": ".py",
   "mimetype": "text/x-python",
   "name": "python",
   "nbconvert_exporter": "python",
   "pygments_lexer": "ipython3",
   "version": "3.6.6"
  },
  "vscode": {
   "interpreter": {
    "hash": "aa27e9c382af27ffc7f95dfc851fc303a5a7c579f08f3bcde9866653f4510f4a"
   }
  }
 },
 "nbformat": 4,
 "nbformat_minor": 4
}
